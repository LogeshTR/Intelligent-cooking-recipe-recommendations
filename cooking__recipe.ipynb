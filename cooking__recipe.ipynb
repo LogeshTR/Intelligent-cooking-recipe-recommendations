{
  "nbformat": 4,
  "nbformat_minor": 0,
  "metadata": {
    "colab": {
      "provenance": []
    },
    "kernelspec": {
      "name": "python3",
      "display_name": "Python 3"
    },
    "language_info": {
      "name": "python"
    }
  },
  "cells": [
    {
      "cell_type": "code",
      "execution_count": 1,
      "metadata": {
        "id": "L5gF-BMq1juG"
      },
      "outputs": [],
      "source": [
        "#First Step\n",
        "import numpy as np\n",
        "import pandas as pd\n",
        "from sklearn.ensemble import RandomForestClassifier\n",
        "from sklearn.model_selection import train_test_split\n",
        "from sklearn.metrics import accuracy_score,roc_auc_score, roc_curve\n",
        "import matplotlib.pyplot as plt\n",
        "\n",
        "workloads  = pd.read_csv(\"/content/drive/MyDrive/dataset/PP_recipes.csv\")"
      ]
    },
    {
      "cell_type": "code",
      "source": [
        "workloads.dtypes"
      ],
      "metadata": {
        "colab": {
          "base_uri": "https://localhost:8080/"
        },
        "id": "vF4QL0hwTwgd",
        "outputId": "84be4f72-7b06-439f-dab5-c3064c1e2bc7"
      },
      "execution_count": 2,
      "outputs": [
        {
          "output_type": "execute_result",
          "data": {
            "text/plain": [
              "id                    int64\n",
              "i                     int64\n",
              "name_tokens          object\n",
              "ingredient_tokens    object\n",
              "steps_tokens         object\n",
              "techniques           object\n",
              "calorie_level         int64\n",
              "ingredient_ids       object\n",
              "dtype: object"
            ]
          },
          "metadata": {},
          "execution_count": 2
        }
      ]
    },
    {
      "cell_type": "code",
      "source": [
        "workloads['name_tokens'] = pd.to_numeric(workloads['name_tokens'], errors='coerce')\n",
        "workloads['ingredient_tokens'] = pd.to_numeric(workloads['ingredient_tokens'], errors='coerce')\n",
        "workloads['steps_tokens'] = pd.to_numeric(workloads['steps_tokens'], errors='coerce')\n",
        "workloads['techniques'] = pd.to_numeric(workloads['techniques'], errors='coerce')\n",
        "workloads['calorie_level'] = pd.to_numeric(workloads['calorie_level'], errors='coerce')\n",
        "workloads['ingredient_ids'] = pd.to_numeric(workloads['ingredient_ids'], errors='coerce')"
      ],
      "metadata": {
        "id": "eHALttBMZEBN"
      },
      "execution_count": 6,
      "outputs": []
    },
    {
      "cell_type": "code",
      "source": [
        "workloads=workloads.fillna(0).astype(np.int64,errors='ignore')"
      ],
      "metadata": {
        "id": "aNETC0ffZwjl"
      },
      "execution_count": 7,
      "outputs": []
    },
    {
      "cell_type": "code",
      "source": [
        "X = workloads.iloc[:,0:7]"
      ],
      "metadata": {
        "id": "dG7ZKUuF17fd"
      },
      "execution_count": 8,
      "outputs": []
    },
    {
      "cell_type": "code",
      "source": [
        "Y = workloads.iloc[:,7].values\n",
        "print(Y)"
      ],
      "metadata": {
        "colab": {
          "base_uri": "https://localhost:8080/"
        },
        "id": "rd-VwT-l2he0",
        "outputId": "7fac9acb-5795-4a0b-c78e-6e09c04194ba"
      },
      "execution_count": 9,
      "outputs": [
        {
          "output_type": "stream",
          "name": "stdout",
          "text": [
            "[0 0 0 ... 0 0 0]\n"
          ]
        }
      ]
    },
    {
      "cell_type": "code",
      "execution_count": 10,
      "metadata": {
        "colab": {
          "base_uri": "https://localhost:8080/"
        },
        "id": "T6NTM2iJXP9J",
        "outputId": "1c21cd41-e36f-473d-e1ea-b26f7ca99314"
      },
      "outputs": [
        {
          "output_type": "stream",
          "name": "stdout",
          "text": [
            "Accuracy Score of Random Forest Classifier :  1.0\n"
          ]
        }
      ],
      "source": [
        "train_x,test_x,train_y,test_y = train_test_split(X,Y,test_size =15)\n",
        "rfc = RandomForestClassifier(n_estimators=70,criterion='gini')\n",
        "rfc.fit(train_x,train_y)\n",
        "y_pred3 = rfc.predict(test_x)\n",
        "print(\"Accuracy Score of Random Forest Classifier : \", accuracy_score(y_pred3,test_y))"
      ]
    },
    {
      "cell_type": "code",
      "source": [
        "from sklearn.metrics import classification_report\n",
        "print(classification_report(test_y, y_pred3))"
      ],
      "metadata": {
        "colab": {
          "base_uri": "https://localhost:8080/"
        },
        "id": "JTAdMJ3G8vVV",
        "outputId": "cb58bd4c-b5fc-4b57-e059-e4a207b6de54"
      },
      "execution_count": 11,
      "outputs": [
        {
          "output_type": "stream",
          "name": "stdout",
          "text": [
            "              precision    recall  f1-score   support\n",
            "\n",
            "           0       1.00      1.00      1.00        15\n",
            "\n",
            "    accuracy                           1.00        15\n",
            "   macro avg       1.00      1.00      1.00        15\n",
            "weighted avg       1.00      1.00      1.00        15\n",
            "\n"
          ]
        }
      ]
    }
  ]
}